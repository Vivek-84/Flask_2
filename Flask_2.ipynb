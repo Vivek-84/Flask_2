{
 "cells": [
  {
   "cell_type": "markdown",
   "id": "1dc6a0c0",
   "metadata": {},
   "source": [
    "# Explain GET and POST methods."
   ]
  },
  {
   "cell_type": "raw",
   "id": "30ff3925",
   "metadata": {},
   "source": [
    "The GET method is limited to a maximum number of characters, while the POST method has no such limitation. This is because the\n",
    "GET method sends data through the resource URL, which is limited in length, while the POST method sends data through the HTTP\n",
    "message body, which has no such limitation."
   ]
  },
  {
   "cell_type": "markdown",
   "id": "87192b33",
   "metadata": {},
   "source": [
    "# Why is request used in Flask?"
   ]
  },
  {
   "cell_type": "raw",
   "id": "7e64c818",
   "metadata": {},
   "source": [
    "The Request, in Flask, is an object that contains all the data sent from the Client to Server. This data can be recovered using\n",
    "the GET/POST Methods."
   ]
  },
  {
   "cell_type": "markdown",
   "id": "e379c340",
   "metadata": {},
   "source": [
    "# Why is redirect() used in Flask?"
   ]
  },
  {
   "cell_type": "raw",
   "id": "68d340d8",
   "metadata": {},
   "source": [
    "redirect(): It is defined as a function or utility in Flask which allows developers to redirect users to a specified URL and\n",
    "    assign a specified status code. When this function is called, a response object is returned, and the redirection happens \n",
    "    to the target location with the status code."
   ]
  },
  {
   "cell_type": "markdown",
   "id": "91bd0b2f",
   "metadata": {},
   "source": [
    "# What are templates in Flask? Why is the render_template() function used?"
   ]
  },
  {
   "cell_type": "raw",
   "id": "99160f91",
   "metadata": {},
   "source": [
    "Templates are files that contain static data as well as placeholders for dynamic data. A template is rendered with specific\n",
    "data to produce a final document. Flask uses the Jinja template library to render templates. In your application, you will use\n",
    "templates to render HTML which will display in the user's browser.\n",
    "\n",
    "render_template is used to generate output from a template file based on the Jinja2 engine that is found in the application's templates folder. Note that render_template is typically imported directly from the flask package instead of from flask. templating .\n"
   ]
  },
  {
   "cell_type": "markdown",
   "id": "66f8fe0d",
   "metadata": {},
   "source": [
    "#  Create a simple API. Use Postman to test it. Attach the screenshot of the output in the Jupyter Notebook."
   ]
  },
  {
   "cell_type": "raw",
   "id": "bfc625d3",
   "metadata": {},
   "source": [
    "App.py\n",
    "from flask import Flask, render_template, request\n",
    "app = Flask(__name__)\n",
    "\n",
    "@app.route('/')\n",
    "def stud():\n",
    "   return render_template('stud.html')\n",
    "\n",
    "@app.route('/result',methods = ['POST', 'GET'])\n",
    "def result():\n",
    "   if request.method == 'POST':\n",
    "      result = request.form\n",
    "      return render_template(\"result.html\",result = result)\n",
    "\n",
    "if __name__ == '__main__':\n",
    "   app.run(debug = True)"
   ]
  },
  {
   "cell_type": "raw",
   "id": "9ca99e47",
   "metadata": {},
   "source": [
    "templates:\n",
    "\n",
    "stud.html\n",
    "<html>\n",
    "   <body>\n",
    "      <form action = \"http://localhost:5000/result\" method = \"POST\">\n",
    "         <p>Name <input type = \"text\" name = \"Name\" /></p>\n",
    "         <p>Physics <input type = \"text\" name = \"Physics\" /></p>\n",
    "         <p>Chemistry <input type = \"text\" name = \"chemistry\" /></p>\n",
    "         <p>Maths <input type =\"text\" name = \"Mathematics\" /></p>\n",
    "         <p><input type = \"submit\" value = \"submit\" /></p>\n",
    "      </form>\n",
    "   </body>\n",
    "</html>\n",
    "\n",
    "result.html\n",
    "\n",
    "<!doctype html>\n",
    "<html>\n",
    "   <body>\n",
    "      <table border = 1>\n",
    "         {% for key, value in result.items() %}\n",
    "            <tr>\n",
    "               <th> {{ key }} </th>\n",
    "               <td> {{ value }} </td>\n",
    "            </tr>\n",
    "         {% endfor %}\n",
    "      </table>\n",
    "   </body>\n",
    "</html>\n"
   ]
  }
 ],
 "metadata": {
  "kernelspec": {
   "display_name": "Python 3 (ipykernel)",
   "language": "python",
   "name": "python3"
  },
  "language_info": {
   "codemirror_mode": {
    "name": "ipython",
    "version": 3
   },
   "file_extension": ".py",
   "mimetype": "text/x-python",
   "name": "python",
   "nbconvert_exporter": "python",
   "pygments_lexer": "ipython3",
   "version": "3.11.4"
  }
 },
 "nbformat": 4,
 "nbformat_minor": 5
}
